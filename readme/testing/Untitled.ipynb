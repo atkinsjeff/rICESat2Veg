{
 "cells": [
  {
   "cell_type": "code",
   "execution_count": 172,
   "id": "dd54f2bc-b944-4d63-a069-f92f86de5f43",
   "metadata": {
    "vscode": {
     "languageId": "r"
    }
   },
   "outputs": [
    {
     "data": {
      "text/html": [
       "181027"
      ],
      "text/latex": [
       "181027"
      ],
      "text/markdown": [
       "181027"
      ],
      "text/plain": [
       "[1] 181027"
      ]
     },
     "metadata": {},
     "output_type": "display_data"
    },
    {
     "data": {
      "text/html": [
       "<table class=\"dataframe\">\n",
       "<caption>A data.table: 6 × 3</caption>\n",
       "<thead>\n",
       "\t<tr><th scope=col>longitude</th><th scope=col>latitude</th><th scope=col>I</th></tr>\n",
       "\t<tr><th scope=col>&lt;dbl&gt;</th><th scope=col>&lt;dbl&gt;</th><th scope=col>&lt;int&gt;</th></tr>\n",
       "</thead>\n",
       "<tbody>\n",
       "\t<tr><td>-103.7555</td><td>59.49118</td><td>1</td></tr>\n",
       "\t<tr><td>-103.7556</td><td>59.49100</td><td>2</td></tr>\n",
       "\t<tr><td>-103.7556</td><td>59.49082</td><td>3</td></tr>\n",
       "\t<tr><td>-103.7556</td><td>59.49064</td><td>4</td></tr>\n",
       "\t<tr><td>-103.7557</td><td>59.49047</td><td>5</td></tr>\n",
       "\t<tr><td>-103.7557</td><td>59.49029</td><td>6</td></tr>\n",
       "</tbody>\n",
       "</table>\n"
      ],
      "text/latex": [
       "A data.table: 6 × 3\n",
       "\\begin{tabular}{lll}\n",
       " longitude & latitude & I\\\\\n",
       " <dbl> & <dbl> & <int>\\\\\n",
       "\\hline\n",
       "\t -103.7555 & 59.49118 & 1\\\\\n",
       "\t -103.7556 & 59.49100 & 2\\\\\n",
       "\t -103.7556 & 59.49082 & 3\\\\\n",
       "\t -103.7556 & 59.49064 & 4\\\\\n",
       "\t -103.7557 & 59.49047 & 5\\\\\n",
       "\t -103.7557 & 59.49029 & 6\\\\\n",
       "\\end{tabular}\n"
      ],
      "text/markdown": [
       "\n",
       "A data.table: 6 × 3\n",
       "\n",
       "| longitude &lt;dbl&gt; | latitude &lt;dbl&gt; | I &lt;int&gt; |\n",
       "|---|---|---|\n",
       "| -103.7555 | 59.49118 | 1 |\n",
       "| -103.7556 | 59.49100 | 2 |\n",
       "| -103.7556 | 59.49082 | 3 |\n",
       "| -103.7556 | 59.49064 | 4 |\n",
       "| -103.7557 | 59.49047 | 5 |\n",
       "| -103.7557 | 59.49029 | 6 |\n",
       "\n"
      ],
      "text/plain": [
       "  longitude latitude I\n",
       "1 -103.7555 59.49118 1\n",
       "2 -103.7556 59.49100 2\n",
       "3 -103.7556 59.49082 3\n",
       "4 -103.7556 59.49064 4\n",
       "5 -103.7557 59.49047 5\n",
       "6 -103.7557 59.49029 6"
      ]
     },
     "metadata": {},
     "output_type": "display_data"
    }
   ],
   "source": [
    "atl03_seg_dt <- data.table::data.table(\n",
    "  longitude = atl03_h5[[\"gt1r/geolocation/reference_photon_lon\"]][],\n",
    "  latitude = atl03_h5[[\"gt1r/geolocation/reference_photon_lat\"]][]\n",
    ")\n",
    "\n",
    "atl03_seg_dt[, I := .I]\n",
    "\n",
    "nrow(atl03_seg_dt)\n",
    "head(atl03_seg_dt)\n"
   ]
  },
  {
   "cell_type": "code",
   "execution_count": 173,
   "id": "a2ee5c47-f520-4cc4-8c8b-b10b3dde75de",
   "metadata": {
    "vscode": {
     "languageId": "r"
    }
   },
   "outputs": [
    {
     "data": {
      "text/plain": [
       " class       : SpatVector \n",
       " geometry    : points \n",
       " dimensions  : 181027, 1  (geometries, attributes)\n",
       " extent      : -108.3903, -103.7555, 26.98748, 59.49118  (xmin, xmax, ymin, ymax)\n",
       " coord. ref. :  \n",
       " names       :     I\n",
       " type        : <int>\n",
       " values      :     1\n",
       "                   2\n",
       "                   3"
      ]
     },
     "metadata": {},
     "output_type": "display_data"
    }
   ],
   "source": [
    "seg_geom <- terra::vect(\n",
    "  atl03_seg_dt,\n",
    "  geom = c('longitude', 'latitude')\n",
    ")\n",
    "seg_geom"
   ]
  },
  {
   "cell_type": "code",
   "execution_count": 175,
   "id": "1bf80a0a",
   "metadata": {
    "vscode": {
     "languageId": "r"
    }
   },
   "outputs": [
    {
     "data": {
      "text/plain": [
       " class       : SpatVector \n",
       " geometry    : points \n",
       " dimensions  : 9, 1  (geometries, attributes)\n",
       " extent      : -103.7604, -103.7601, 59.46722, 59.46865  (xmin, xmax, ymin, ymax)\n",
       " coord. ref. :  \n",
       " names       :     I\n",
       " type        : <int>\n",
       " values      :   127\n",
       "                 128\n",
       "                 129"
      ]
     },
     "metadata": {},
     "output_type": "display_data"
    }
   ],
   "source": [
    "inter_geom <- terra::intersect(seg_geom, v2)\n"
   ]
  },
  {
   "cell_type": "code",
   "execution_count": 185,
   "id": "50395c6f",
   "metadata": {
    "vscode": {
     "languageId": "r"
    }
   },
   "outputs": [],
   "source": [
    "mask <- inter_geom[[\"I\"]][[1]]\n"
   ]
  },
  {
   "cell_type": "code",
   "execution_count": 188,
   "id": "ce345047",
   "metadata": {
    "vscode": {
     "languageId": "r"
    }
   },
   "outputs": [
    {
     "data": {
      "text/html": [
       "<table class=\"dataframe\">\n",
       "<caption>A data.table: 6 × 5</caption>\n",
       "<thead>\n",
       "\t<tr><th scope=col>longitude</th><th scope=col>latitude</th><th scope=col>segment_id</th><th scope=col>segment_ph_cnt</th><th scope=col>ph_index_beg</th></tr>\n",
       "\t<tr><th scope=col>&lt;dbl&gt;</th><th scope=col>&lt;dbl&gt;</th><th scope=col>&lt;int&gt;</th><th scope=col>&lt;int&gt;</th><th scope=col>&lt;int&gt;</th></tr>\n",
       "</thead>\n",
       "<tbody>\n",
       "\t<tr><td>-103.7601</td><td>59.46865</td><td>671215</td><td>116</td><td>11096</td></tr>\n",
       "\t<tr><td>-103.7601</td><td>59.46848</td><td>671216</td><td>123</td><td>11212</td></tr>\n",
       "\t<tr><td>-103.7602</td><td>59.46829</td><td>671217</td><td>113</td><td>11335</td></tr>\n",
       "\t<tr><td>-103.7602</td><td>59.46811</td><td>671218</td><td>151</td><td>11448</td></tr>\n",
       "\t<tr><td>-103.7602</td><td>59.46793</td><td>671219</td><td>123</td><td>11599</td></tr>\n",
       "\t<tr><td>-103.7603</td><td>59.46775</td><td>671220</td><td>140</td><td>11722</td></tr>\n",
       "</tbody>\n",
       "</table>\n"
      ],
      "text/latex": [
       "A data.table: 6 × 5\n",
       "\\begin{tabular}{lllll}\n",
       " longitude & latitude & segment\\_id & segment\\_ph\\_cnt & ph\\_index\\_beg\\\\\n",
       " <dbl> & <dbl> & <int> & <int> & <int>\\\\\n",
       "\\hline\n",
       "\t -103.7601 & 59.46865 & 671215 & 116 & 11096\\\\\n",
       "\t -103.7601 & 59.46848 & 671216 & 123 & 11212\\\\\n",
       "\t -103.7602 & 59.46829 & 671217 & 113 & 11335\\\\\n",
       "\t -103.7602 & 59.46811 & 671218 & 151 & 11448\\\\\n",
       "\t -103.7602 & 59.46793 & 671219 & 123 & 11599\\\\\n",
       "\t -103.7603 & 59.46775 & 671220 & 140 & 11722\\\\\n",
       "\\end{tabular}\n"
      ],
      "text/markdown": [
       "\n",
       "A data.table: 6 × 5\n",
       "\n",
       "| longitude &lt;dbl&gt; | latitude &lt;dbl&gt; | segment_id &lt;int&gt; | segment_ph_cnt &lt;int&gt; | ph_index_beg &lt;int&gt; |\n",
       "|---|---|---|---|---|\n",
       "| -103.7601 | 59.46865 | 671215 | 116 | 11096 |\n",
       "| -103.7601 | 59.46848 | 671216 | 123 | 11212 |\n",
       "| -103.7602 | 59.46829 | 671217 | 113 | 11335 |\n",
       "| -103.7602 | 59.46811 | 671218 | 151 | 11448 |\n",
       "| -103.7602 | 59.46793 | 671219 | 123 | 11599 |\n",
       "| -103.7603 | 59.46775 | 671220 | 140 | 11722 |\n",
       "\n"
      ],
      "text/plain": [
       "  longitude latitude segment_id segment_ph_cnt ph_index_beg\n",
       "1 -103.7601 59.46865 671215     116            11096       \n",
       "2 -103.7601 59.46848 671216     123            11212       \n",
       "3 -103.7602 59.46829 671217     113            11335       \n",
       "4 -103.7602 59.46811 671218     151            11448       \n",
       "5 -103.7602 59.46793 671219     123            11599       \n",
       "6 -103.7603 59.46775 671220     140            11722       "
      ]
     },
     "metadata": {},
     "output_type": "display_data"
    }
   ],
   "source": [
    "atl03_seg_dt_clipped <- data.table::data.table(\n",
    "  longitude = atl03_h5[[\"gt1r/geolocation/reference_photon_lon\"]][mask],\n",
    "  latitude = atl03_h5[[\"gt1r/geolocation/reference_photon_lat\"]][mask],\n",
    "  segment_id = atl03_h5[[\"gt1r/geolocation/segment_id\"]][mask],\n",
    "  segment_ph_cnt = atl03_h5[[\"gt1r/geolocation/segment_ph_cnt\"]][mask],\n",
    "  ph_index_beg = atl03_h5[[\"gt1r/geolocation/ph_index_beg\"]][mask]\n",
    ")\n",
    "head(atl03_seg_dt_clipped)"
   ]
  },
  {
   "cell_type": "code",
   "execution_count": 191,
   "id": "64708a35",
   "metadata": {
    "vscode": {
     "languageId": "r"
    }
   },
   "outputs": [],
   "source": [
    "seq_lens_simplify <- Rcpp::cppFunction(\"\n",
    "IntegerVector seq_lens_simplify(IntegerVector from, IntegerVector length_out) {\n",
    "  IntegerVector output(sum(length_out));\n",
    "  int pos = 0;\n",
    "  for (int ii = 0; ii < from.length(); ii++) {\n",
    "    for (int jj: Rcpp::seq(from[ii], from[ii] + length_out[ii] - 1)) {\n",
    "      output[pos++] = jj;\n",
    "    }\n",
    "  }\n",
    "  return output;\n",
    "}\n",
    "\")"
   ]
  },
  {
   "cell_type": "code",
   "execution_count": 317,
   "id": "ca21740f",
   "metadata": {
    "vscode": {
     "languageId": "r"
    }
   },
   "outputs": [
    {
     "data": {
      "text/html": [
       "<style>\n",
       ".list-inline {list-style: none; margin:0; padding: 0}\n",
       ".list-inline>li {display: inline-block}\n",
       ".list-inline>li:not(:last-child)::after {content: \"\\00b7\"; padding: 0 .5ex}\n",
       "</style>\n",
       "<ol class=list-inline><li>11096</li><li>11212</li><li>11335</li><li>11448</li><li>11599</li><li>11722</li></ol>\n"
      ],
      "text/latex": [
       "\\begin{enumerate*}\n",
       "\\item 11096\n",
       "\\item 11212\n",
       "\\item 11335\n",
       "\\item 11448\n",
       "\\item 11599\n",
       "\\item 11722\n",
       "\\end{enumerate*}\n"
      ],
      "text/markdown": [
       "1. 11096\n",
       "2. 11212\n",
       "3. 11335\n",
       "4. 11448\n",
       "5. 11599\n",
       "6. 11722\n",
       "\n",
       "\n"
      ],
      "text/plain": [
       "[1] 11096 11212 11335 11448 11599 11722"
      ]
     },
     "metadata": {},
     "output_type": "display_data"
    },
    {
     "data": {
      "text/html": [
       "<style>\n",
       ".list-inline {list-style: none; margin:0; padding: 0}\n",
       ".list-inline>li {display: inline-block}\n",
       ".list-inline>li:not(:last-child)::after {content: \"\\00b7\"; padding: 0 .5ex}\n",
       "</style>\n",
       "<ol class=list-inline><li>11096</li><li>11097</li><li>11098</li><li>11099</li><li>11100</li><li>11101</li></ol>\n"
      ],
      "text/latex": [
       "\\begin{enumerate*}\n",
       "\\item 11096\n",
       "\\item 11097\n",
       "\\item 11098\n",
       "\\item 11099\n",
       "\\item 11100\n",
       "\\item 11101\n",
       "\\end{enumerate*}\n"
      ],
      "text/markdown": [
       "1. 11096\n",
       "2. 11097\n",
       "3. 11098\n",
       "4. 11099\n",
       "5. 11100\n",
       "6. 11101\n",
       "\n",
       "\n"
      ],
      "text/plain": [
       "[1] 11096 11097 11098 11099 11100 11101"
      ]
     },
     "metadata": {},
     "output_type": "display_data"
    }
   ],
   "source": [
    "photons_mask <- seq_lens_simplify(atl03_seg_dt_clipped$ph_index_beg, atl03_seg_dt_clipped$segment_ph_cnt)\n",
    "head(atl03_seg_dt_clipped$ph_index_beg)\n",
    "head(photons_mask)"
   ]
  },
  {
   "cell_type": "code",
   "execution_count": 424,
   "id": "56b18f0d",
   "metadata": {
    "vscode": {
     "languageId": "r"
    }
   },
   "outputs": [
    {
     "name": "stderr",
     "output_type": "stream",
     "text": [
      "\u001b[1m\u001b[22m\u001b[36mℹ\u001b[39m Loading \u001b[34mICESat2VegR\u001b[39m\n"
     ]
    },
    {
     "name": "stderr",
     "output_type": "stream",
     "text": [
      "Creating a new generic function for 'clip' in package 'ICESat2VegR'\n",
      "\n",
      "Creating a generic function from function 'map' in package 'ICESat2VegR'\n",
      "\n",
      "\n",
      "##----------------------------------------------------------------##\n",
      "ICESat2VegR package, version 0.0.1, Released 2024-03-06 UTC\n",
      "This package is based upon work supported by the NASA ICESat-2 under grants No. ****. \n",
      "##----------------------------------------------------------------##\n",
      "\n"
     ]
    }
   ],
   "source": [
    "devtools::load_all()"
   ]
  },
  {
   "cell_type": "code",
   "execution_count": 428,
   "id": "ff085757",
   "metadata": {
    "vscode": {
     "languageId": "r"
    }
   },
   "outputs": [
    {
     "name": "stdout",
     "output_type": "stream",
     "text": [
      "  |==================                                                    |  25%   ph_segment_id    lon_ph   lat_ph     h_ph quality_ph solar_elevation\n",
      "           <int>     <num>    <num>    <num>      <int>           <num>\n",
      "1:        671215 -103.7601 59.46874 325.9640          0        23.50526\n",
      "2:        671215 -103.7601 59.46874 278.7379          0        23.50526\n",
      "3:        671215 -103.7601 59.46873 429.6898          0        23.50526\n",
      "4:        671215 -103.7601 59.46872 416.0034          0        23.50526\n",
      "5:        671215 -103.7601 59.46872 405.5378          0        23.50526\n",
      "6:        671215 -103.7601 59.46872 382.8574          0        23.50526\n",
      "   dist_ph_along dist_ph_across\n",
      "           <num>          <num>\n",
      "1:     0.3446315       9648.384\n",
      "2:     0.1905272       9649.371\n",
      "3:     1.3921306       9646.220\n",
      "4:     2.0568457       9646.509\n",
      "5:     2.0235429       9646.728\n",
      "6:     1.9488899       9647.201\n",
      "  |======================================================================| 100%\n"
     ]
    }
   ],
   "source": [
    "atl03_atl08_dt_clip <- ATL03_ATL08_photons_attributes_dt_join(atl03_h5_clip, atl08_h5_clip)\n"
   ]
  },
  {
   "cell_type": "code",
   "execution_count": 429,
   "id": "28b45747",
   "metadata": {
    "vscode": {
     "languageId": "r"
    }
   },
   "outputs": [
    {
     "data": {
      "image/png": "[encoded data removed]",
      "text/plain": [
       "plot without title"
      ]
     },
     "metadata": {
      "image/png": {
       "height": 420,
       "width": 420
      }
     },
     "output_type": "display_data"
    }
   ],
   "source": [
    "with(na.omit(atl03_atl08_dt_clip), plot(delta_time, h_ph, col=c(\"gray\", \"goldenrod\", \"forestgreen\", \"green\")[classed_pc_flag + 1], pch = 16))"
   ]
  },
  {
   "cell_type": "code",
   "execution_count": null,
   "id": "cd2d743a",
   "metadata": {
    "vscode": {
     "languageId": "r"
    }
   },
   "outputs": [],
   "source": []
  }
 ],
 "metadata": {
  "kernelspec": {
   "display_name": "R",
   "language": "R",
   "name": "ir"
  },
  "language_info": {
   "codemirror_mode": "r",
   "file_extension": ".r",
   "mimetype": "text/x-r-source",
   "name": "R",
   "pygments_lexer": "r",
   "version": "4.3.2"
  }
 },
 "nbformat": 4,
 "nbformat_minor": 5
}
